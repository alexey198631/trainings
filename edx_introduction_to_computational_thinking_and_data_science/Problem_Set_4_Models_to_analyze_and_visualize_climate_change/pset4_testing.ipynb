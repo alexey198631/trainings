{
 "cells": [
  {
   "cell_type": "code",
   "execution_count": 25,
   "id": "e14fd89d",
   "metadata": {},
   "outputs": [],
   "source": [
    "import re\n",
    "\n",
    "rawdata = {}\n",
    "\n",
    "f = open('data.csv', 'r')\n",
    "header = f.readline().strip().split(',')\n",
    "for line in f:\n",
    "    items = line.strip().split(',')\n",
    "\n",
    "    date = re.match('(\\d\\d\\d\\d)(\\d\\d)(\\d\\d)', items[header.index('DATE')])\n",
    "    year = int(date.group(1))\n",
    "    month = int(date.group(2))\n",
    "    day = int(date.group(3))\n",
    "\n",
    "    city = items[header.index('CITY')]\n",
    "    temperature = float(items[header.index('TEMP')])\n",
    "    if city not in rawdata:\n",
    "        rawdata[city] = {}\n",
    "    if year not in rawdata[city]:\n",
    "        rawdata[city][year] = {}\n",
    "    if month not in rawdata[city][year]:\n",
    "        rawdata[city][year][month] = {}\n",
    "    rawdata[city][year][month][day] = temperature\n",
    "f.close()"
   ]
  },
  {
   "cell_type": "code",
   "execution_count": 33,
   "id": "99a75e3d",
   "metadata": {},
   "outputs": [],
   "source": [
    "import numpy as np\n",
    "import pylab"
   ]
  },
  {
   "cell_type": "code",
   "execution_count": 80,
   "id": "9f792b6b",
   "metadata": {},
   "outputs": [],
   "source": [
    "year = 1961\n",
    "city = 'SEATTLE'\n",
    "\n",
    "temperatures = []\n",
    "assert city in rawdata, \"provided city is not available\"\n",
    "assert year in rawdata[city], \"provided year is not available\"\n",
    "for month in range(1, 13):\n",
    "    for day in range(1, 32):\n",
    "        if day in rawdata[city][year][month]:\n",
    "            temperatures.append(rawdata[city][year][month][day])\n",
    "#np.array(temperatures)"
   ]
  },
  {
   "cell_type": "code",
   "execution_count": 81,
   "id": "97848c2f",
   "metadata": {},
   "outputs": [],
   "source": [
    "def genFits(xVals, yVals, degrees):\n",
    "    models = []\n",
    "    for d in degrees:\n",
    "        model = pylab.polyfit(xVals, yVals, d)\n",
    "        models.append(model)\n",
    "    return models"
   ]
  },
  {
   "cell_type": "code",
   "execution_count": 82,
   "id": "834a2632",
   "metadata": {},
   "outputs": [],
   "source": [
    "def r_squared(y, estimated):\n",
    "    \"\"\"\n",
    "    Calculate the R-squared error term.\n",
    "    Args:\n",
    "        y: list with length N, representing the y-coords of N sample points\n",
    "        estimated: a list of values estimated by the regression model\n",
    "    Returns:\n",
    "        a float for the R-squared error term\n",
    "        \n",
    "    \"\"\"\n",
    "    \n",
    "    numerator = 0\n",
    "    denominator = 0\n",
    "    mn = sum(y)/len(y)\n",
    "\n",
    "    for i in range(len(y)):\n",
    "        numerator = numerator + ((estimated[i] - y[i]) ** 2)\n",
    "        denominator = denominator + ((y[i] - mn) ** 2)\n",
    "    \n",
    "    return round(1 - numerator / denominator,4)"
   ]
  },
  {
   "cell_type": "code",
   "execution_count": 83,
   "id": "d2ca1e9a",
   "metadata": {},
   "outputs": [],
   "source": [
    "#model = np.array([ 3.02503294e-02, -6.22341809e+01])\n",
    "degrees = [1,2,4,8]\n",
    "temperature = [-4.45, -5.85, 6.65, 0.85, -0.55, -1.95, 0.0, -12.2, -3.65, -6.95, -3.05, 8.35, -4.45, -5.55, 3.9, -7.75, 1.35, -8.9, -3.6, -3.65, -8.35, -10.8, 3.3, -1.1, -8.35, 3.35, 2.25, -5.55, -1.95, 4.75, -3.9, 1.95, -7.5, -8.9, -4.7, -3.65, 3.65, 3.9, -3.9, 8.6, -6.95, 6.65, 0.0, -14.7, 2.2]\n",
    "years = [1961, 1962, 1963, 1964, 1965, 1966, 1967, 1968, 1969, 1970, 1971, 1972, 1973, 1974, 1975, 1976, 1977, 1978, 1979, 1980, 1981, 1982, 1983, 1984, 1985, 1986, 1987, 1988, 1989, 1990, 1991, 1992, 1993, 1994, 1995, 1996, 1997, 1998, 1999, 2000, 2001, 2002, 2003, 2004, 2005]"
   ]
  },
  {
   "cell_type": "code",
   "execution_count": 84,
   "id": "9b159d1e",
   "metadata": {},
   "outputs": [
    {
     "name": "stderr",
     "output_type": "stream",
     "text": [
      "/var/folders/k0/5mz4jdsj64n5f2jltclyq9zh0000gn/T/ipykernel_54634/476497979.py:1: RankWarning: Polyfit may be poorly conditioned\n",
      "  models = genFits(years, temperature, degrees)\n"
     ]
    }
   ],
   "source": [
    "models = genFits(years, temperature, degrees)"
   ]
  },
  {
   "cell_type": "code",
   "execution_count": 85,
   "id": "e8349180",
   "metadata": {},
   "outputs": [],
   "source": [
    "def testFits(models, degrees, xVals, yVals, title):\n",
    "    pylab.plot(xVals, yVals, 'o', label = 'Data')\n",
    "    for i in range(len(models)):\n",
    "        estYVals = pylab.polyval(models[i], xVals)\n",
    "        error = r_squared(yVals, estYVals)\n",
    "        pylab.plot(xVals, estYVals,\n",
    "                   label = 'Fit of degree '\\\n",
    "                   + str(degrees[i])\\\n",
    "                   + ', R2 = ' + str(round(error, 5)))\n",
    "    pylab.legend(loc = 'best')\n",
    "    pylab.title(title)"
   ]
  },
  {
   "cell_type": "code",
   "execution_count": 86,
   "id": "63e96606",
   "metadata": {},
   "outputs": [
    {
     "data": {
      "image/png": "[encoded data removed]",
      "text/plain": [
       "<Figure size 432x288 with 1 Axes>"
      ]
     },
     "metadata": {
      "needs_background": "light"
     },
     "output_type": "display_data"
    }
   ],
   "source": [
    "testFits(models, degrees , years, temperature, 'хуй')"
   ]
  },
  {
   "cell_type": "code",
   "execution_count": 88,
   "id": "3d0177e2",
   "metadata": {},
   "outputs": [
    {
     "data": {
      "text/plain": [
       "[1961,\n",
       " 1962,\n",
       " 1963,\n",
       " 1964,\n",
       " 1965,\n",
       " 1966,\n",
       " 1967,\n",
       " 1968,\n",
       " 1969,\n",
       " 1970,\n",
       " 1971,\n",
       " 1972,\n",
       " 1973,\n",
       " 1974,\n",
       " 1975,\n",
       " 1976,\n",
       " 1977,\n",
       " 1978,\n",
       " 1979,\n",
       " 1980,\n",
       " 1981,\n",
       " 1982,\n",
       " 1983,\n",
       " 1984,\n",
       " 1985,\n",
       " 1986,\n",
       " 1987,\n",
       " 1988,\n",
       " 1989,\n",
       " 1990,\n",
       " 1991,\n",
       " 1992,\n",
       " 1993,\n",
       " 1994,\n",
       " 1995,\n",
       " 1996,\n",
       " 1997,\n",
       " 1998,\n",
       " 1999,\n",
       " 2000,\n",
       " 2001,\n",
       " 2002,\n",
       " 2003,\n",
       " 2004,\n",
       " 2005]"
      ]
     },
     "execution_count": 88,
     "metadata": {},
     "output_type": "execute_result"
    }
   ],
   "source": [
    "INTERVAL_1 = list(range(1961, 2006))\n",
    "INTERVAL_1"
   ]
  },
  {
   "cell_type": "code",
   "execution_count": null,
   "id": "97d12603",
   "metadata": {},
   "outputs": [],
   "source": []
  }
 ],
 "metadata": {
  "kernelspec": {
   "display_name": "Python 3 (ipykernel)",
   "language": "python",
   "name": "python3"
  },
  "language_info": {
   "codemirror_mode": {
    "name": "ipython",
    "version": 3
   },
   "file_extension": ".py",
   "mimetype": "text/x-python",
   "name": "python",
   "nbconvert_exporter": "python",
   "pygments_lexer": "ipython3",
   "version": "3.9.12"
  }
 },
 "nbformat": 4,
 "nbformat_minor": 5
}
