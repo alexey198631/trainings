{
 "cells": [
  {
   "cell_type": "code",
   "execution_count": null,
   "id": "4c1d1f86",
   "metadata": {},
   "outputs": [],
   "source": [
    "class RectangularRoom(object):\n",
    "    \"\"\"\n",
    "    A RectangularRoom represents a rectangular region containing clean or dirty\n",
    "    tiles.\n",
    "\n",
    "    A room has a width and a height and contains (width * height) tiles. At any\n",
    "    particular time, each of these tiles is either clean or dirty.\n",
    "    \"\"\"\n",
    "    def __init__(self, width, height):\n",
    "        \"\"\"\n",
    "        Initializes a rectangular room with the specified width and height.\n",
    "\n",
    "        Initially, no tiles in the room have been cleaned.\n",
    "\n",
    "        width: an integer > 0\n",
    "        height: an integer > 0\n",
    "        \"\"\"\n",
    "        self.width = width\n",
    "        self.height = height\n",
    "        \n",
    "    def cleanTileAtPosition(self, pos):\n",
    "        \"\"\"\n",
    "        Mark the tile under the position POS as cleaned.\n",
    "\n",
    "        Assumes that POS represents a valid position inside this room.\n",
    "\n",
    "        pos: a Position\n",
    "        \"\"\"\n",
    "        raise NotImplementedError\n",
    "\n",
    "    def isTileCleaned(self, m, n):\n",
    "        \"\"\"\n",
    "        Return True if the tile (m, n) has been cleaned.\n",
    "\n",
    "        Assumes that (m, n) represents a valid tile inside the room.\n",
    "\n",
    "        m: an integer\n",
    "        n: an integer\n",
    "        returns: True if (m, n) is cleaned, False otherwise\n",
    "        \"\"\"\n",
    "        raise NotImplementedError\n",
    "    \n",
    "    def getNumTiles(self):\n",
    "        \"\"\"\n",
    "        Return the total number of tiles in the room.\n",
    "\n",
    "        returns: an integer\n",
    "        \"\"\"\n",
    "        raise NotImplementedError\n",
    "\n",
    "    def getNumCleanedTiles(self):\n",
    "        \"\"\"\n",
    "        Return the total number of clean tiles in the room.\n",
    "\n",
    "        returns: an integer\n",
    "        \"\"\"\n",
    "        raise NotImplementedError\n",
    "\n",
    "    def getRandomPosition(self):\n",
    "        \"\"\"\n",
    "        Return a random position inside the room.\n",
    "\n",
    "        returns: a Position object.\n",
    "        \"\"\"\n",
    "        raise NotImplementedError\n",
    "\n",
    "    def isPositionInRoom(self, pos):\n",
    "        \"\"\"\n",
    "        Return True if pos is inside the room.\n",
    "\n",
    "        pos: a Position object.\n",
    "        returns: True if pos is in the room, False otherwise.\n",
    "        \"\"\"\n",
    "        raise NotImplementedError"
   ]
  },
  {
   "cell_type": "code",
   "execution_count": 4,
   "id": "204c9bbb",
   "metadata": {},
   "outputs": [
    {
     "data": {
      "text/plain": [
       "2"
      ]
     },
     "execution_count": 4,
     "metadata": {},
     "output_type": "execute_result"
    }
   ],
   "source": [
    "import random\n",
    "import math\n",
    "math.floor(random.uniform(0,10))"
   ]
  },
  {
   "cell_type": "code",
   "execution_count": 8,
   "id": "157a87ee",
   "metadata": {},
   "outputs": [],
   "source": [
    "def getRandomPosition():\n",
    "    posX = math.floor(random.uniform(0,10))\n",
    "    posY = math.floor(random.uniform(0,10))\n",
    "    return (posX,posY)"
   ]
  },
  {
   "cell_type": "code",
   "execution_count": 9,
   "id": "57182656",
   "metadata": {},
   "outputs": [
    {
     "data": {
      "text/plain": [
       "(2, 0)"
      ]
     },
     "execution_count": 9,
     "metadata": {},
     "output_type": "execute_result"
    }
   ],
   "source": [
    "getRandomPosition()"
   ]
  },
  {
   "cell_type": "code",
   "execution_count": 13,
   "id": "a4339983",
   "metadata": {},
   "outputs": [
    {
     "data": {
      "text/plain": [
       "202"
      ]
     },
     "execution_count": 13,
     "metadata": {},
     "output_type": "execute_result"
    }
   ],
   "source": [
    "int(random.uniform(0,360))"
   ]
  },
  {
   "cell_type": "code",
   "execution_count": null,
   "id": "6bb0e362",
   "metadata": {},
   "outputs": [],
   "source": []
  },
  {
   "cell_type": "code",
   "execution_count": null,
   "id": "133fcd61",
   "metadata": {},
   "outputs": [],
   "source": []
  },
  {
   "cell_type": "code",
   "execution_count": null,
   "id": "c19e3ddc",
   "metadata": {},
   "outputs": [],
   "source": []
  }
 ],
 "metadata": {
  "kernelspec": {
   "display_name": "Python 3 (ipykernel)",
   "language": "python",
   "name": "python3"
  },
  "language_info": {
   "codemirror_mode": {
    "name": "ipython",
    "version": 3
   },
   "file_extension": ".py",
   "mimetype": "text/x-python",
   "name": "python",
   "nbconvert_exporter": "python",
   "pygments_lexer": "ipython3",
   "version": "3.9.12"
  }
 },
 "nbformat": 4,
 "nbformat_minor": 5
}
