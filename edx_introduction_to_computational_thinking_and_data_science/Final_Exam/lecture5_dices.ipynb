{
 "cells": [
  {
   "cell_type": "code",
   "execution_count": 8,
   "id": "d2a73c4c",
   "metadata": {},
   "outputs": [
    {
     "name": "stdout",
     "output_type": "stream",
     "text": [
      "32366\n",
      "Frequency of double 6 = 2.8160000000000003%\n"
     ]
    }
   ],
   "source": [
    "import random\n",
    " \n",
    "def rollDie():\n",
    "    \"\"\"returns a random int between 1 and 6\"\"\"\n",
    "    return random.choice([1,2,3,4,5,6])\n",
    " \n",
    "def testRoll(n = 10):\n",
    "    result = ''\n",
    "    for i in range(n):\n",
    "        result = result + str(rollDie())\n",
    "    print(result)\n",
    "\n",
    "testRoll(5)\n",
    "\n",
    "#random.seed(0)\n",
    "\n",
    "def runSim(goal, numTrials):\n",
    "    total = 0\n",
    "    for i in range(numTrials):\n",
    "        result = ''\n",
    "        for j in range(len(goal)):\n",
    "            result += str(rollDie())\n",
    "        if result == goal:\n",
    "            total += 1\n",
    "    print('Actual probability =',\n",
    "          round(1/(6**len(goal)), 8)) \n",
    "    estProbability = round(total/numTrials, 8)\n",
    "    print('Estimated Probability  =',\n",
    "          round(estProbability, 8))\n",
    "    \n",
    "#runSim('11111', 1000)\n",
    "\n",
    "def fracBoxCars(numTests):\n",
    "    numBoxCars = 0.0\n",
    "    for i in range(numTests):\n",
    "        if rollDie() == 6 and rollDie() == 6:\n",
    "            numBoxCars += 1\n",
    "    return numBoxCars/numTests\n",
    "    \n",
    "print('Frequency of double 6 =',\n",
    "      str(fracBoxCars(100000)*100) + '%')"
   ]
  },
  {
   "cell_type": "code",
   "execution_count": 26,
   "id": "3909ae16",
   "metadata": {},
   "outputs": [],
   "source": [
    "star = []\n",
    "win = []"
   ]
  },
  {
   "cell_type": "code",
   "execution_count": 32,
   "id": "cd2e3d1a",
   "metadata": {},
   "outputs": [
    {
     "name": "stdout",
     "output_type": "stream",
     "text": [
      "Звезда 3 : 6 Победа , поздравляем команду Победа!\n"
     ]
    }
   ],
   "source": [
    "def rollDie():\n",
    "    \"\"\"returns a random int between 1 and 6\"\"\"\n",
    "    return random.choice([1,2,3,4,5,6])\n",
    " \n",
    "def testRoll(n = 1):\n",
    "    result = ''\n",
    "    for i in range(n):\n",
    "        result = result + str(rollDie())\n",
    "    return result\n",
    "\n",
    "f = testRoll()\n",
    "s = testRoll()\n",
    "\n",
    "\n",
    "if f>s:\n",
    "    print('Звезда', f ,':', s ,  'Победа', ', поздравляем команду Звезда!')\n",
    "    star.append(3)\n",
    "    win.append(0)\n",
    "elif s>f:\n",
    "    print('Звезда', f ,':', s ,  'Победа', ', поздравляем команду Победа!')\n",
    "    star.append(0)\n",
    "    win.append(3)\n",
    "else:\n",
    "    print('Звезда', f ,':', s ,  'Победа', ', ничья!')\n",
    "    star.append(1)\n",
    "    win.append(1)"
   ]
  },
  {
   "cell_type": "code",
   "execution_count": 35,
   "id": "b6d0af46",
   "metadata": {},
   "outputs": [
    {
     "data": {
      "text/plain": [
       "8"
      ]
     },
     "execution_count": 35,
     "metadata": {},
     "output_type": "execute_result"
    }
   ],
   "source": [
    "sum(star)"
   ]
  },
  {
   "cell_type": "code",
   "execution_count": 36,
   "id": "fc1577bb",
   "metadata": {},
   "outputs": [
    {
     "data": {
      "text/plain": [
       "8"
      ]
     },
     "execution_count": 36,
     "metadata": {},
     "output_type": "execute_result"
    }
   ],
   "source": [
    "sum(win)"
   ]
  },
  {
   "cell_type": "code",
   "execution_count": null,
   "id": "9cc3cda8",
   "metadata": {},
   "outputs": [],
   "source": []
  }
 ],
 "metadata": {
  "kernelspec": {
   "display_name": "Python 3 (ipykernel)",
   "language": "python",
   "name": "python3"
  },
  "language_info": {
   "codemirror_mode": {
    "name": "ipython",
    "version": 3
   },
   "file_extension": ".py",
   "mimetype": "text/x-python",
   "name": "python",
   "nbconvert_exporter": "python",
   "pygments_lexer": "ipython3",
   "version": "3.9.12"
  }
 },
 "nbformat": 4,
 "nbformat_minor": 5
}
