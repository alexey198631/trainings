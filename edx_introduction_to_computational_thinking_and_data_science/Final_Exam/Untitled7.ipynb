{
 "cells": [
  {
   "cell_type": "code",
   "execution_count": 9,
   "id": "a51c9d4c",
   "metadata": {},
   "outputs": [],
   "source": [
    "def getMeanAndStd(X):\n",
    "    mean = sum(X)/float(len(X))\n",
    "    tot = 0.0\n",
    "    for x in X:\n",
    "        tot += (x - mean)**2\n",
    "    std = (tot/len(X))**0.5\n",
    "    return mean, std"
   ]
  },
  {
   "cell_type": "code",
   "execution_count": 10,
   "id": "e2ee18c9",
   "metadata": {},
   "outputs": [],
   "source": [
    "def stdDevOfLengths(L):\n",
    "    \"\"\"\n",
    "    L: a list of strings\n",
    "\n",
    "    returns: float, the standard deviation of the lengths of the strings,\n",
    "      or NaN if L is empty.\n",
    "    \"\"\"\n",
    "    list_of_len = []\n",
    "    for l in L:\n",
    "        list_of_len.append(len(l))\n",
    "         \n",
    "    return getMeanAndStd(list_of_len)[1]\n",
    "        "
   ]
  },
  {
   "cell_type": "code",
   "execution_count": 13,
   "id": "85f57a11",
   "metadata": {},
   "outputs": [],
   "source": [
    "L = ['a', 'z', 'p']\n",
    "f1 = stdDevOfLengths(L)"
   ]
  },
  {
   "cell_type": "code",
   "execution_count": 14,
   "id": "da59c955",
   "metadata": {},
   "outputs": [
    {
     "data": {
      "text/plain": [
       "0.0"
      ]
     },
     "execution_count": 14,
     "metadata": {},
     "output_type": "execute_result"
    }
   ],
   "source": [
    "f1"
   ]
  },
  {
   "cell_type": "code",
   "execution_count": 17,
   "id": "87d0e651",
   "metadata": {},
   "outputs": [
    {
     "data": {
      "text/plain": [
       "(2.0, 0.816496580927726)"
      ]
     },
     "execution_count": 17,
     "metadata": {},
     "output_type": "execute_result"
    }
   ],
   "source": [
    "l1 = [1,2,3]\n",
    "getMeanAndStd(l1)"
   ]
  },
  {
   "cell_type": "code",
   "execution_count": 18,
   "id": "f24fdd8b",
   "metadata": {},
   "outputs": [
    {
     "data": {
      "text/plain": [
       "(12.0, 0.816496580927726)"
      ]
     },
     "execution_count": 18,
     "metadata": {},
     "output_type": "execute_result"
    }
   ],
   "source": [
    "l2 = [11,12,13]\n",
    "getMeanAndStd(l2)"
   ]
  },
  {
   "cell_type": "code",
   "execution_count": 19,
   "id": "b84e2279",
   "metadata": {},
   "outputs": [
    {
     "data": {
      "text/plain": [
       "0.408248290463863"
      ]
     },
     "execution_count": 19,
     "metadata": {},
     "output_type": "execute_result"
    }
   ],
   "source": [
    "0.816496580927726/2"
   ]
  },
  {
   "cell_type": "code",
   "execution_count": 20,
   "id": "2a600305",
   "metadata": {},
   "outputs": [
    {
     "data": {
      "text/plain": [
       "0.06804138174397717"
      ]
     },
     "execution_count": 20,
     "metadata": {},
     "output_type": "execute_result"
    }
   ],
   "source": [
    "0.816496580927726/12"
   ]
  },
  {
   "cell_type": "code",
   "execution_count": null,
   "id": "b3150429",
   "metadata": {},
   "outputs": [],
   "source": [
    "#have a bucket with 3 red balls and 3 green balls. Assume that once you draw a ball out of the bucket, you don't replace it. \n",
    "#What is the probability of drawing 3 balls of the same color?"
   ]
  },
  {
   "cell_type": "code",
   "execution_count": 36,
   "id": "8778d008",
   "metadata": {},
   "outputs": [],
   "source": [
    "import random\n",
    "\n",
    "def randomball(q_red,q_green,trials):\n",
    "    lst = []\n",
    "    result = []\n",
    "    for i in range(q_red):\n",
    "        lst.append('red')\n",
    "    for j in range(q_green):\n",
    "        lst.append('green')\n",
    "    while trials > 0:\n",
    "        ball = random.sample(lst, 1)[0]\n",
    "        lst.remove(ball)\n",
    "        result.append(ball)\n",
    "        trials -= 1\n",
    "    return result\n",
    "\n",
    "\n",
    "def all_one_color(lst):\n",
    "    check = set(lst)\n",
    "    if len(check) == 1:\n",
    "        return 1\n",
    "    else:\n",
    "        return 0\n",
    "    \n",
    "def probability(trials):\n",
    "    tr = 0\n",
    "    total = 0\n",
    "    for i in range(trials):\n",
    "        if all_one_color(randomball(3,3,3)) == 1:\n",
    "            tr += 1\n",
    "            total += 1\n",
    "        else:\n",
    "            total += 1\n",
    "    return f'{tr}/{total}'\n",
    "        \n",
    "\n",
    "trials = [10, 100, 1000, 10000, 100000]\n",
    "\n",
    "ls = []\n",
    "for i in trials:\n",
    "    ls.append(probability(i))\n",
    "    \n",
    "    \n",
    "    \n",
    "#lst = randomball(3,3,3)\n",
    "#check = all_one_color(randomball(3,3,3))\n",
    "#print(lst, check)"
   ]
  },
  {
   "cell_type": "code",
   "execution_count": 37,
   "id": "d8652c22",
   "metadata": {},
   "outputs": [
    {
     "data": {
      "text/plain": [
       "['2/10', '7/100', '104/1000', '987/10000', '9976/100000']"
      ]
     },
     "execution_count": 37,
     "metadata": {},
     "output_type": "execute_result"
    }
   ],
   "source": [
    "ls"
   ]
  },
  {
   "cell_type": "code",
   "execution_count": 41,
   "id": "d8b25ecb",
   "metadata": {},
   "outputs": [
    {
     "data": {
      "text/plain": [
       "0.09976"
      ]
     },
     "execution_count": 41,
     "metadata": {},
     "output_type": "execute_result"
    }
   ],
   "source": [
    "9976/100000"
   ]
  },
  {
   "cell_type": "code",
   "execution_count": null,
   "id": "04995846",
   "metadata": {},
   "outputs": [],
   "source": []
  }
 ],
 "metadata": {
  "kernelspec": {
   "display_name": "Python 3 (ipykernel)",
   "language": "python",
   "name": "python3"
  },
  "language_info": {
   "codemirror_mode": {
    "name": "ipython",
    "version": 3
   },
   "file_extension": ".py",
   "mimetype": "text/x-python",
   "name": "python",
   "nbconvert_exporter": "python",
   "pygments_lexer": "ipython3",
   "version": "3.9.12"
  }
 },
 "nbformat": 4,
 "nbformat_minor": 5
}
