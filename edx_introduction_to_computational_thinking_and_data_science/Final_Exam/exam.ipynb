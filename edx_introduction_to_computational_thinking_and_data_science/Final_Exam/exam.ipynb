{
 "cells": [
  {
   "cell_type": "code",
   "execution_count": 5,
   "id": "d27ebe82",
   "metadata": {},
   "outputs": [
    {
     "name": "stdout",
     "output_type": "stream",
     "text": [
      "[7]\n"
     ]
    }
   ],
   "source": [
    "import random\n",
    "\n",
    "def F():\n",
    "    mylist = []\n",
    "    r = 1\n",
    "\n",
    "    if random.random() > 0.99:\n",
    "        r = random.randint(1, 10)\n",
    "    for i in range(r):\n",
    "        random.seed(0)\n",
    "        if random.randint(1, 10) > 3:\n",
    "            number = random.randint(1, 10)\n",
    "            if number not in mylist:\n",
    "                mylist.append(number)\n",
    "    print(mylist)\n",
    "\n",
    "F()"
   ]
  },
  {
   "cell_type": "code",
   "execution_count": 8,
   "id": "176bc814",
   "metadata": {},
   "outputs": [
    {
     "name": "stdout",
     "output_type": "stream",
     "text": [
      "[1]\n"
     ]
    }
   ],
   "source": [
    "def G():  \n",
    "    random.seed(0)\n",
    "    mylist = []\n",
    "    r = 1\n",
    "\n",
    "    if random.random() > 0.99:\n",
    "        r = random.randint(1, 10)\n",
    "    for i in range(r):\n",
    "        if random.randint(1, 10) > 3:\n",
    "            number = random.randint(1, 10)\n",
    "            mylist.append(number)\n",
    "            print(mylist)\n",
    "\n",
    "G()"
   ]
  },
  {
   "cell_type": "code",
   "execution_count": null,
   "id": "f2d0a231",
   "metadata": {},
   "outputs": [],
   "source": []
  }
 ],
 "metadata": {
  "kernelspec": {
   "display_name": "Python 3 (ipykernel)",
   "language": "python",
   "name": "python3"
  },
  "language_info": {
   "codemirror_mode": {
    "name": "ipython",
    "version": 3
   },
   "file_extension": ".py",
   "mimetype": "text/x-python",
   "name": "python",
   "nbconvert_exporter": "python",
   "pygments_lexer": "ipython3",
   "version": "3.9.12"
  }
 },
 "nbformat": 4,
 "nbformat_minor": 5
}
