{
 "cells": [
  {
   "cell_type": "code",
   "execution_count": 191,
   "id": "27f417fd",
   "metadata": {},
   "outputs": [
    {
     "data": {
      "image/png": "[encoded data removed]",
      "text/plain": [
       "<Figure size 432x288 with 1 Axes>"
      ]
     },
     "metadata": {
      "needs_background": "light"
     },
     "output_type": "display_data"
    },
    {
     "name": "stdout",
     "output_type": "stream",
     "text": [
      "5.354\n"
     ]
    }
   ],
   "source": [
    "import random\n",
    "import matplotlib.pyplot as pt\n",
    "\n",
    "\n",
    "random.seed(0)\n",
    "\n",
    "# You are given this function\n",
    "def getMeanAndStd(X):\n",
    "    mean = sum(X)/float(len(X))\n",
    "    tot = 0.0\n",
    "    for x in X:\n",
    "        tot += (x - mean)**2\n",
    "    std = (tot/len(X))**0.5\n",
    "    return mean, std\n",
    "\n",
    "# You are given this class\n",
    "class Die(object):\n",
    "    def __init__(self, valList):\n",
    "        \"\"\" valList is not empty \"\"\"\n",
    "        self.possibleVals = valList[:]\n",
    "    def roll(self):\n",
    "        return random.choice(self.possibleVals)\n",
    "\n",
    "# Implement this -- Coding Part 1 of 2\n",
    "def makeHistogram(values, numBins, xLabel, yLabel, title=None):\n",
    "    \"\"\"\n",
    "      - values, a sequence of numbers\n",
    "      - numBins, a positive int\n",
    "      - xLabel, yLabel, title, are strings\n",
    "      - Produces a histogram of values with numBins bins and the indicated labels\n",
    "        for the x and y axis\n",
    "      - If title is provided by caller, puts that title on the figure and otherwise\n",
    "        does not title the figure\n",
    "    \"\"\"\n",
    "    pt.hist(values, bins = numBins)\n",
    "    pt.xlabel(xLabel)\n",
    "    pt.ylabel(yLabel)\n",
    "    if title != None:\n",
    "        pt.title(title)\n",
    "    pt.show()\n",
    "    \n",
    "\n",
    "\n",
    "                    \n",
    "# Implement this -- Coding Part 2 of 2\n",
    "def getAverage(die, numRolls, numTrials):\n",
    "    \"\"\"\n",
    "      - die, a Die\n",
    "      - numRolls, numTrials, are positive ints\n",
    "      - Calculates the expected mean value of the longest run of a number\n",
    "        over numTrials runs of numRolls rolls.\n",
    "      - Calls makeHistogram to produce a histogram of the longest runs for all\n",
    "        the trials. There should be 10 bins in the histogram\n",
    "      - Choose appropriate labels for the x and y axes.\n",
    "      - Returns the mean calculated\n",
    "    \"\"\"\n",
    "    longest_runs = []\n",
    "    \n",
    "    \n",
    "\n",
    "    for n in range(numTrials):\n",
    "        rw = [die.roll() for j in range(numRolls)]\n",
    "        size = 1\n",
    "        max_size = 0\n",
    "        \n",
    "        for e in range(len(rw) - 1):\n",
    "            if rw[e+1] == rw[e]:\n",
    "                size += 1\n",
    "            else:\n",
    "                size = 1\n",
    "            if max_size < size:\n",
    "                max_size = size\n",
    "        if max_size > 0:\n",
    "            longest_runs.append(max_size)\n",
    "        else:\n",
    "            longest_runs.append(1)\n",
    "            \n",
    "            \n",
    "\n",
    "    mn = sum(longest_runs) / len(longest_runs)\n",
    "    \n",
    "    makeHistogram(longest_runs, 10, 'Length of the longest run', 'frequency', 'The longest runs')\n",
    "            \n",
    "    return  round(mn, 3)\n",
    " \n",
    "    \n",
    "# One test case\n",
    "print(getAverage(Die([1,2,3,4,5,6,6,6,7]), 500, 10000))"
   ]
  },
  {
   "cell_type": "code",
   "execution_count": 192,
   "id": "6c9bcd88",
   "metadata": {},
   "outputs": [
    {
     "data": {
      "image/png": "[encoded data removed]",
      "text/plain": [
       "<Figure size 432x288 with 1 Axes>"
      ]
     },
     "metadata": {
      "needs_background": "light"
     },
     "output_type": "display_data"
    },
    {
     "name": "stdout",
     "output_type": "stream",
     "text": [
      "5.3541\n"
     ]
    }
   ],
   "source": [
    "random.seed(0)\n",
    "def getAverage(die, numRolls, numTrials):\n",
    "    \"\"\"\n",
    "      - die, a Die\n",
    "      - numRolls, numTrials, are positive ints\n",
    "      - Calculates the expected mean value of the longest run of a number\n",
    "        over numTrials runs of numRolls rolls\n",
    "      - Calls makeHistogram to produce a histogram of the longest runs for all\n",
    "        the trials. There should be 10 bins in the histogram\n",
    "      - Choose appropriate labels for the x and y axes.\n",
    "      - Returns the mean calculated to 3 decimal places\n",
    "    \"\"\"\n",
    "    # TODO\n",
    "    longest_runs = []\n",
    "    for i in range(numTrials):\n",
    "        rolls = [die.roll() for j in range(numRolls)]\n",
    "        size = 1\n",
    "        max_size = 0\n",
    "        for i in range(len(rolls)-1):\n",
    "            if rolls[i+1] == rolls[i]:\n",
    "                size += 1\n",
    "            else: \n",
    "                size = 1\n",
    "            if max_size < size:\n",
    "                max_size = size\n",
    "        if max_size > 0:\n",
    "            longest_runs.append(max_size)\n",
    "        else:\n",
    "            longest_runs.append(1)\n",
    "    makeHistogram(longest_runs, numBins = 10, xLabel = 'Length of longest run', yLabel = 'frequency', title = 'Histogram of longest runs')\n",
    "    return sum(longest_runs)/len(longest_runs)\n",
    "\n",
    "print(getAverage(Die([1,2,3,4,5,6,6,6,7]), 500, 10000))"
   ]
  },
  {
   "cell_type": "code",
   "execution_count": 193,
   "id": "1591950c",
   "metadata": {},
   "outputs": [
    {
     "data": {
      "text/plain": [
       "'0b1010'"
      ]
     },
     "execution_count": 193,
     "metadata": {},
     "output_type": "execute_result"
    }
   ],
   "source": [
    "bin(10)"
   ]
  },
  {
   "cell_type": "code",
   "execution_count": 194,
   "id": "b3ec9b79",
   "metadata": {},
   "outputs": [
    {
     "name": "stdout",
     "output_type": "stream",
     "text": [
      "Help on built-in function bin in module builtins:\n",
      "\n",
      "bin(number, /)\n",
      "    Return the binary representation of an integer.\n",
      "    \n",
      "    >>> bin(2796202)\n",
      "    '0b1010101010101010101010'\n",
      "\n"
     ]
    }
   ],
   "source": [
    "help(bin)"
   ]
  },
  {
   "cell_type": "code",
   "execution_count": 197,
   "id": "b9805cbb",
   "metadata": {},
   "outputs": [
    {
     "name": "stdout",
     "output_type": "stream",
     "text": [
      "0b1\n",
      "0b10\n",
      "0b10\n",
      "0b11\n"
     ]
    }
   ],
   "source": [
    "choices = [1,2,2,3]\n",
    "for i in choices:\n",
    "    print(bin(i))"
   ]
  },
  {
   "cell_type": "code",
   "execution_count": null,
   "id": "f8ef773c",
   "metadata": {},
   "outputs": [],
   "source": []
  },
  {
   "cell_type": "code",
   "execution_count": null,
   "id": "f99c8b2d",
   "metadata": {},
   "outputs": [],
   "source": []
  }
 ],
 "metadata": {
  "kernelspec": {
   "display_name": "Python 3 (ipykernel)",
   "language": "python",
   "name": "python3"
  },
  "language_info": {
   "codemirror_mode": {
    "name": "ipython",
    "version": 3
   },
   "file_extension": ".py",
   "mimetype": "text/x-python",
   "name": "python",
   "nbconvert_exporter": "python",
   "pygments_lexer": "ipython3",
   "version": "3.9.12"
  }
 },
 "nbformat": 4,
 "nbformat_minor": 5
}
