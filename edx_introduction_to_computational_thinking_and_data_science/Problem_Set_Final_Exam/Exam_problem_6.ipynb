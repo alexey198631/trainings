{
 "cells": [
  {
   "cell_type": "code",
   "execution_count": 105,
   "id": "661f5e55",
   "metadata": {},
   "outputs": [
    {
     "data": {
      "text/plain": [
       "array([0, 1, 1, 0, 0])"
      ]
     },
     "execution_count": 105,
     "metadata": {},
     "output_type": "execute_result"
    }
   ],
   "source": [
    "import numpy as np\n",
    "\n",
    "def find_combination(choices, total):\n",
    "    \"\"\"\n",
    "    choices: a non-empty list of ints\n",
    "    total: a positive int\n",
    "\n",
    "    Returns result, a numpy.array of length len(choices)\n",
    "    such that\n",
    "        * each element of result is 0 or 1\n",
    "        * sum(result*choices) == total\n",
    "        * sum(result) is as small as possible\n",
    "    In case of ties, returns any result that works.\n",
    "    If there is no result that gives the exact total,\n",
    "    pick the one that gives sum(result*choices) closest\n",
    "    to total without going over.\n",
    "    \"\"\"\n",
    "\n",
    "    def str_to_int(lst):\n",
    "        for i in range(len(lst)):\n",
    "            lst[i] = int(lst[i])\n",
    "        return lst\n",
    "\n",
    "    def zeros(total):\n",
    "        result = []\n",
    "        z = '0'\n",
    "        t = '1'\n",
    "        num = int(t * total, 2)\n",
    "        for c in range(num + 1):\n",
    "            x = str(bin(c))[2:]\n",
    "            if len(x) != total:\n",
    "                x = z * (total - len(x)) + x\n",
    "            result.append(list((x)))\n",
    "\n",
    "        for lst in result:\n",
    "            str_to_int(lst)\n",
    "\n",
    "        return result\n",
    "\n",
    "\n",
    "    result_ok = []\n",
    "    result_less = []\n",
    "    comb = zeros(len(choices))\n",
    "    step1 = np.array(choices)\n",
    "\n",
    "    for l in comb:\n",
    "        arr_l = np.array(l)\n",
    "        sum_to_check = sum(arr_l * step1)\n",
    "        if sum_to_check == total:\n",
    "            result_ok.append(arr_l)\n",
    "        elif sum_to_check < total:\n",
    "            result_less.append(arr_l)\n",
    "\n",
    "    if len(result_ok) > 0:\n",
    "        minim = sum(choices)\n",
    "        for ar in result_ok:\n",
    "            if sum(ar) < minim:\n",
    "                minim = sum(ar)\n",
    "                result = ar\n",
    "        return result\n",
    "\n",
    "    else:\n",
    "        maxim = 0\n",
    "        for ar in result_less:\n",
    "            if sum(ar) > maxim:\n",
    "                maxim = sum(ar)\n",
    "                result = ar\n",
    "        return result\n",
    "\n",
    "\n",
    "find_combination([3, 10, 2, 1, 5], 12)"
   ]
  },
  {
   "cell_type": "code",
   "execution_count": null,
   "id": "8fb48916",
   "metadata": {},
   "outputs": [],
   "source": []
  }
 ],
 "metadata": {
  "kernelspec": {
   "display_name": "Python 3 (ipykernel)",
   "language": "python",
   "name": "python3"
  },
  "language_info": {
   "codemirror_mode": {
    "name": "ipython",
    "version": 3
   },
   "file_extension": ".py",
   "mimetype": "text/x-python",
   "name": "python",
   "nbconvert_exporter": "python",
   "pygments_lexer": "ipython3",
   "version": "3.9.12"
  }
 },
 "nbformat": 4,
 "nbformat_minor": 5
}
