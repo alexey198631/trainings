{
 "cells": [
  {
   "cell_type": "code",
   "execution_count": 1,
   "id": "c9c4f3d6",
   "metadata": {},
   "outputs": [],
   "source": [
    "import random\n",
    "import pylab\n",
    "\n",
    "\n",
    "\n",
    "# Global Variables\n",
    "MAXRABBITPOP = 1000\n",
    "CURRENTRABBITPOP = 50 #500\n",
    "CURRENTFOXPOP = 300 #30\n",
    "\n",
    "\n",
    "\n",
    "def rabbitGrowth():\n",
    "    \"\"\" \n",
    "    rabbitGrowth is called once at the beginning of each time step.\n",
    "\n",
    "    It makes use of the global variables: CURRENTRABBITPOP and MAXRABBITPOP.\n",
    "\n",
    "    The global variable CURRENTRABBITPOP is modified by this procedure.\n",
    "\n",
    "    For each rabbit, based on the probabilities in the problem set write-up, \n",
    "      a new rabbit may be born.\n",
    "    Nothing is returned.\n",
    "    \"\"\"\n",
    "    # you need this line for modifying global variables\n",
    "    global CURRENTRABBITPOP\n",
    "\n",
    "    # TO DO\n",
    "    for i in range(CURRENTRABBITPOP):\n",
    "        if random.random() <= (1 - CURRENTRABBITPOP/MAXRABBITPOP):\n",
    "            CURRENTRABBITPOP += 1\n",
    "            \n",
    "def foxGrowth():\n",
    "    \"\"\" \n",
    "    foxGrowth is called once at the end of each time step.\n",
    "\n",
    "    It makes use of the global variables: CURRENTFOXPOP and CURRENTRABBITPOP,\n",
    "        and both may be modified by this procedure.\n",
    "\n",
    "    Each fox, based on the probabilities in the problem statement, may eat \n",
    "      one rabbit (but only if there are more than 10 rabbits).\n",
    "\n",
    "    If it eats a rabbit, then with a 1/3 prob it gives birth to a new fox.\n",
    "\n",
    "    If it does not eat a rabbit, then with a 1/10 prob it dies.\n",
    "\n",
    "    Nothing is returned.\n",
    "    \"\"\"\n",
    "    # you need these lines for modifying global variables\n",
    "    global CURRENTRABBITPOP\n",
    "    global CURRENTFOXPOP\n",
    "\n",
    "    # TO DO\n",
    "    for i in range(CURRENTFOXPOP):\n",
    "        if CURRENTRABBITPOP > 10:\n",
    "            if random.random() <= (CURRENTRABBITPOP / MAXRABBITPOP):\n",
    "                CURRENTRABBITPOP -= 1\n",
    "                if random.random() <= (1/3):\n",
    "                    CURRENTFOXPOP += 1\n",
    "            else:\n",
    "                if random.random() <= 0.9:\n",
    "                    CURRENTFOXPOP -= 1\n",
    "                    \n",
    "                    \n",
    "                \n",
    "            \n",
    "def runSimulation(numSteps):\n",
    "    \"\"\"\n",
    "    Runs the simulation for `numSteps` time steps.\n",
    "\n",
    "    Returns a tuple of two lists: (rabbit_populations, fox_populations)\n",
    "      where rabbit_populations is a record of the rabbit population at the \n",
    "      END of each time step, and fox_populations is a record of the fox population\n",
    "      at the END of each time step.\n",
    "\n",
    "    Both lists should be `numSteps` items long.\n",
    "    \"\"\"\n",
    "\n",
    "    # TO DO\n",
    "    rabbits = []\n",
    "    foxes = []\n",
    "    \n",
    "    for i in range(numSteps):\n",
    "        rabbitGrowth()\n",
    "        foxGrowth()\n",
    "        rabbits.append(CURRENTRABBITPOP)\n",
    "        #print(CURRENTRABBITPOP)\n",
    "        foxes.append(CURRENTFOXPOP)\n",
    "    return rabbits, foxes\n",
    "        \n"
   ]
  },
  {
   "cell_type": "code",
   "execution_count": 2,
   "id": "afdf8a3d",
   "metadata": {},
   "outputs": [
    {
     "data": {
      "text/plain": [
       "[<matplotlib.lines.Line2D at 0x7f7d9a9e1af0>]"
      ]
     },
     "execution_count": 2,
     "metadata": {},
     "output_type": "execute_result"
    },
    {
     "data": {
      "image/png": "[encoded data removed]",
      "text/plain": [
       "<Figure size 432x288 with 1 Axes>"
      ]
     },
     "metadata": {
      "needs_background": "light"
     },
     "output_type": "display_data"
    }
   ],
   "source": [
    "pylab.plot(runSimulation(numSteps = 100)[0], color = 'grey')\n",
    "pylab.plot(runSimulation(numSteps = 100)[1], color = 'red')"
   ]
  },
  {
   "cell_type": "code",
   "execution_count": 59,
   "id": "9aacbcca",
   "metadata": {},
   "outputs": [
    {
     "name": "stderr",
     "output_type": "stream",
     "text": [
      "/Users/aleksejgukov/opt/anaconda3/lib/python3.9/site-packages/IPython/core/interactiveshell.py:3369: RankWarning: Polyfit may be poorly conditioned\n",
      "  exec(code_obj, self.user_global_ns, self.user_ns)\n"
     ]
    },
    {
     "ename": "ValueError",
     "evalue": "x and y must have same first dimension, but have shapes (3, 100) and (2,)",
     "output_type": "error",
     "traceback": [
      "\u001b[0;31m---------------------------------------------------------------------------\u001b[0m",
      "\u001b[0;31mValueError\u001b[0m                                Traceback (most recent call last)",
      "Input \u001b[0;32mIn [59]\u001b[0m, in \u001b[0;36m<cell line: 7>\u001b[0;34m()\u001b[0m\n\u001b[1;32m      1\u001b[0m rabbitPopulationOverTime \u001b[38;5;241m=\u001b[39m runSimulation(numSteps \u001b[38;5;241m=\u001b[39m \u001b[38;5;241m100\u001b[39m)\n\u001b[1;32m      4\u001b[0m coeff \u001b[38;5;241m=\u001b[39m pylab\u001b[38;5;241m.\u001b[39mpolyfit(\u001b[38;5;28mrange\u001b[39m(\u001b[38;5;28mlen\u001b[39m(rabbitPopulationOverTime)), rabbitPopulationOverTime, \u001b[38;5;241m2\u001b[39m)\n\u001b[0;32m----> 7\u001b[0m \u001b[43mpylab\u001b[49m\u001b[38;5;241;43m.\u001b[39;49m\u001b[43mplot\u001b[49m\u001b[43m(\u001b[49m\u001b[43mcoeff\u001b[49m\u001b[43m,\u001b[49m\u001b[43m \u001b[49m\u001b[38;5;28;43mrange\u001b[39;49m\u001b[43m(\u001b[49m\u001b[38;5;28;43mlen\u001b[39;49m\u001b[43m(\u001b[49m\u001b[43mrabbitPopulationOverTime\u001b[49m\u001b[43m)\u001b[49m\u001b[43m)\u001b[49m\u001b[43m)\u001b[49m\n",
      "File \u001b[0;32m~/opt/anaconda3/lib/python3.9/site-packages/matplotlib/pyplot.py:2757\u001b[0m, in \u001b[0;36mplot\u001b[0;34m(scalex, scaley, data, *args, **kwargs)\u001b[0m\n\u001b[1;32m   2755\u001b[0m \u001b[38;5;129m@_copy_docstring_and_deprecators\u001b[39m(Axes\u001b[38;5;241m.\u001b[39mplot)\n\u001b[1;32m   2756\u001b[0m \u001b[38;5;28;01mdef\u001b[39;00m \u001b[38;5;21mplot\u001b[39m(\u001b[38;5;241m*\u001b[39margs, scalex\u001b[38;5;241m=\u001b[39m\u001b[38;5;28;01mTrue\u001b[39;00m, scaley\u001b[38;5;241m=\u001b[39m\u001b[38;5;28;01mTrue\u001b[39;00m, data\u001b[38;5;241m=\u001b[39m\u001b[38;5;28;01mNone\u001b[39;00m, \u001b[38;5;241m*\u001b[39m\u001b[38;5;241m*\u001b[39mkwargs):\n\u001b[0;32m-> 2757\u001b[0m     \u001b[38;5;28;01mreturn\u001b[39;00m \u001b[43mgca\u001b[49m\u001b[43m(\u001b[49m\u001b[43m)\u001b[49m\u001b[38;5;241;43m.\u001b[39;49m\u001b[43mplot\u001b[49m\u001b[43m(\u001b[49m\n\u001b[1;32m   2758\u001b[0m \u001b[43m        \u001b[49m\u001b[38;5;241;43m*\u001b[39;49m\u001b[43margs\u001b[49m\u001b[43m,\u001b[49m\u001b[43m \u001b[49m\u001b[43mscalex\u001b[49m\u001b[38;5;241;43m=\u001b[39;49m\u001b[43mscalex\u001b[49m\u001b[43m,\u001b[49m\u001b[43m \u001b[49m\u001b[43mscaley\u001b[49m\u001b[38;5;241;43m=\u001b[39;49m\u001b[43mscaley\u001b[49m\u001b[43m,\u001b[49m\n\u001b[1;32m   2759\u001b[0m \u001b[43m        \u001b[49m\u001b[38;5;241;43m*\u001b[39;49m\u001b[38;5;241;43m*\u001b[39;49m\u001b[43m(\u001b[49m\u001b[43m{\u001b[49m\u001b[38;5;124;43m\"\u001b[39;49m\u001b[38;5;124;43mdata\u001b[39;49m\u001b[38;5;124;43m\"\u001b[39;49m\u001b[43m:\u001b[49m\u001b[43m \u001b[49m\u001b[43mdata\u001b[49m\u001b[43m}\u001b[49m\u001b[43m \u001b[49m\u001b[38;5;28;43;01mif\u001b[39;49;00m\u001b[43m \u001b[49m\u001b[43mdata\u001b[49m\u001b[43m \u001b[49m\u001b[38;5;129;43;01mis\u001b[39;49;00m\u001b[43m \u001b[49m\u001b[38;5;129;43;01mnot\u001b[39;49;00m\u001b[43m \u001b[49m\u001b[38;5;28;43;01mNone\u001b[39;49;00m\u001b[43m \u001b[49m\u001b[38;5;28;43;01melse\u001b[39;49;00m\u001b[43m \u001b[49m\u001b[43m{\u001b[49m\u001b[43m}\u001b[49m\u001b[43m)\u001b[49m\u001b[43m,\u001b[49m\u001b[43m \u001b[49m\u001b[38;5;241;43m*\u001b[39;49m\u001b[38;5;241;43m*\u001b[39;49m\u001b[43mkwargs\u001b[49m\u001b[43m)\u001b[49m\n",
      "File \u001b[0;32m~/opt/anaconda3/lib/python3.9/site-packages/matplotlib/axes/_axes.py:1632\u001b[0m, in \u001b[0;36mAxes.plot\u001b[0;34m(self, scalex, scaley, data, *args, **kwargs)\u001b[0m\n\u001b[1;32m   1390\u001b[0m \u001b[38;5;124;03m\"\"\"\u001b[39;00m\n\u001b[1;32m   1391\u001b[0m \u001b[38;5;124;03mPlot y versus x as lines and/or markers.\u001b[39;00m\n\u001b[1;32m   1392\u001b[0m \n\u001b[0;32m   (...)\u001b[0m\n\u001b[1;32m   1629\u001b[0m \u001b[38;5;124;03m(``'green'``) or hex strings (``'#008000'``).\u001b[39;00m\n\u001b[1;32m   1630\u001b[0m \u001b[38;5;124;03m\"\"\"\u001b[39;00m\n\u001b[1;32m   1631\u001b[0m kwargs \u001b[38;5;241m=\u001b[39m cbook\u001b[38;5;241m.\u001b[39mnormalize_kwargs(kwargs, mlines\u001b[38;5;241m.\u001b[39mLine2D)\n\u001b[0;32m-> 1632\u001b[0m lines \u001b[38;5;241m=\u001b[39m [\u001b[38;5;241m*\u001b[39m\u001b[38;5;28mself\u001b[39m\u001b[38;5;241m.\u001b[39m_get_lines(\u001b[38;5;241m*\u001b[39margs, data\u001b[38;5;241m=\u001b[39mdata, \u001b[38;5;241m*\u001b[39m\u001b[38;5;241m*\u001b[39mkwargs)]\n\u001b[1;32m   1633\u001b[0m \u001b[38;5;28;01mfor\u001b[39;00m line \u001b[38;5;129;01min\u001b[39;00m lines:\n\u001b[1;32m   1634\u001b[0m     \u001b[38;5;28mself\u001b[39m\u001b[38;5;241m.\u001b[39madd_line(line)\n",
      "File \u001b[0;32m~/opt/anaconda3/lib/python3.9/site-packages/matplotlib/axes/_base.py:312\u001b[0m, in \u001b[0;36m_process_plot_var_args.__call__\u001b[0;34m(self, data, *args, **kwargs)\u001b[0m\n\u001b[1;32m    310\u001b[0m     this \u001b[38;5;241m+\u001b[39m\u001b[38;5;241m=\u001b[39m args[\u001b[38;5;241m0\u001b[39m],\n\u001b[1;32m    311\u001b[0m     args \u001b[38;5;241m=\u001b[39m args[\u001b[38;5;241m1\u001b[39m:]\n\u001b[0;32m--> 312\u001b[0m \u001b[38;5;28;01myield from\u001b[39;00m \u001b[38;5;28;43mself\u001b[39;49m\u001b[38;5;241;43m.\u001b[39;49m\u001b[43m_plot_args\u001b[49m\u001b[43m(\u001b[49m\u001b[43mthis\u001b[49m\u001b[43m,\u001b[49m\u001b[43m \u001b[49m\u001b[43mkwargs\u001b[49m\u001b[43m)\u001b[49m\n",
      "File \u001b[0;32m~/opt/anaconda3/lib/python3.9/site-packages/matplotlib/axes/_base.py:498\u001b[0m, in \u001b[0;36m_process_plot_var_args._plot_args\u001b[0;34m(self, tup, kwargs, return_kwargs)\u001b[0m\n\u001b[1;32m    495\u001b[0m     \u001b[38;5;28mself\u001b[39m\u001b[38;5;241m.\u001b[39maxes\u001b[38;5;241m.\u001b[39myaxis\u001b[38;5;241m.\u001b[39mupdate_units(y)\n\u001b[1;32m    497\u001b[0m \u001b[38;5;28;01mif\u001b[39;00m x\u001b[38;5;241m.\u001b[39mshape[\u001b[38;5;241m0\u001b[39m] \u001b[38;5;241m!=\u001b[39m y\u001b[38;5;241m.\u001b[39mshape[\u001b[38;5;241m0\u001b[39m]:\n\u001b[0;32m--> 498\u001b[0m     \u001b[38;5;28;01mraise\u001b[39;00m \u001b[38;5;167;01mValueError\u001b[39;00m(\u001b[38;5;124mf\u001b[39m\u001b[38;5;124m\"\u001b[39m\u001b[38;5;124mx and y must have same first dimension, but \u001b[39m\u001b[38;5;124m\"\u001b[39m\n\u001b[1;32m    499\u001b[0m                      \u001b[38;5;124mf\u001b[39m\u001b[38;5;124m\"\u001b[39m\u001b[38;5;124mhave shapes \u001b[39m\u001b[38;5;132;01m{\u001b[39;00mx\u001b[38;5;241m.\u001b[39mshape\u001b[38;5;132;01m}\u001b[39;00m\u001b[38;5;124m and \u001b[39m\u001b[38;5;132;01m{\u001b[39;00my\u001b[38;5;241m.\u001b[39mshape\u001b[38;5;132;01m}\u001b[39;00m\u001b[38;5;124m\"\u001b[39m)\n\u001b[1;32m    500\u001b[0m \u001b[38;5;28;01mif\u001b[39;00m x\u001b[38;5;241m.\u001b[39mndim \u001b[38;5;241m>\u001b[39m \u001b[38;5;241m2\u001b[39m \u001b[38;5;129;01mor\u001b[39;00m y\u001b[38;5;241m.\u001b[39mndim \u001b[38;5;241m>\u001b[39m \u001b[38;5;241m2\u001b[39m:\n\u001b[1;32m    501\u001b[0m     \u001b[38;5;28;01mraise\u001b[39;00m \u001b[38;5;167;01mValueError\u001b[39;00m(\u001b[38;5;124mf\u001b[39m\u001b[38;5;124m\"\u001b[39m\u001b[38;5;124mx and y can be no greater than 2D, but have \u001b[39m\u001b[38;5;124m\"\u001b[39m\n\u001b[1;32m    502\u001b[0m                      \u001b[38;5;124mf\u001b[39m\u001b[38;5;124m\"\u001b[39m\u001b[38;5;124mshapes \u001b[39m\u001b[38;5;132;01m{\u001b[39;00mx\u001b[38;5;241m.\u001b[39mshape\u001b[38;5;132;01m}\u001b[39;00m\u001b[38;5;124m and \u001b[39m\u001b[38;5;132;01m{\u001b[39;00my\u001b[38;5;241m.\u001b[39mshape\u001b[38;5;132;01m}\u001b[39;00m\u001b[38;5;124m\"\u001b[39m)\n",
      "\u001b[0;31mValueError\u001b[0m: x and y must have same first dimension, but have shapes (3, 100) and (2,)"
     ]
    },
    {
     "data": {
      "image/png": "[encoded data removed]",
      "text/plain": [
       "<Figure size 432x288 with 1 Axes>"
      ]
     },
     "metadata": {
      "needs_background": "light"
     },
     "output_type": "display_data"
    }
   ],
   "source": [
    "rabbitPopulationOverTime = runSimulation(numSteps = 100)\n",
    "\n",
    "\n",
    "coeff = pylab.polyfit(range(len(rabbitPopulationOverTime)), rabbitPopulationOverTime, 2)\n",
    "\n",
    "\n",
    "pylab.plot(coeff, range(len(rabbitPopulationOverTime)))"
   ]
  },
  {
   "cell_type": "code",
   "execution_count": 65,
   "id": "9caa54df",
   "metadata": {},
   "outputs": [
    {
     "name": "stderr",
     "output_type": "stream",
     "text": [
      "No artists with labels found to put in legend.  Note that artists whose label start with an underscore are ignored when legend() is called with no argument.\n"
     ]
    },
    {
     "data": {
      "image/png": "[encoded data removed]",
      "text/plain": [
       "<Figure size 432x288 with 1 Axes>"
      ]
     },
     "metadata": {
      "needs_background": "light"
     },
     "output_type": "display_data"
    }
   ],
   "source": [
    "def plotPopulations(numSteps):\n",
    "    \"\"\" Plots populations of Foxes & Rabbits for given timesteps. \"\"\"\n",
    "    rab_pop, fox_pop = runSimulation(numSteps)\n",
    "    # for i in range(len(rab_pop)):\n",
    "    #     print(rab_pop[i], fox_pop[i])\n",
    "\n",
    "    r_style = 'bo'    # blue - continuous line\n",
    "    f_style = 'ro'    # red  - continuous line\n",
    "\n",
    "    pylab.figure('Fox / Rabit Populations')\n",
    "\n",
    "    #pylab.plot(rab_pop, r_style, label='Rabbit Pop')\n",
    "    #pylab.plot(fox_pop, f_style, label='Fox Pop')\n",
    "\n",
    "    pylab.title('Fox / Rabit Populations: {} timesteps'.format(numSteps))\n",
    "    pylab.xlabel('Time Steps')\n",
    "    pylab.ylabel('Population')\n",
    "    pylab.legend(loc='best')\n",
    "\n",
    "    degree = 2\n",
    "    rab_coeff = pylab.polyfit(range(len(rab_pop)), rab_pop, degree)\n",
    "    pylab.plot(pylab.polyval(rab_coeff, range(len(rab_pop))), 'b-')\n",
    "    fox_coeff = pylab.polyfit(range(len(fox_pop)), fox_pop, degree)\n",
    "    pylab.plot(pylab.polyval(fox_coeff, range(len(fox_pop))), 'r-')\n",
    "\n",
    "    pylab.show()\n",
    "\n",
    "    \n",
    "plotPopulations(200)"
   ]
  },
  {
   "cell_type": "code",
   "execution_count": null,
   "id": "996d12dc",
   "metadata": {},
   "outputs": [],
   "source": []
  }
 ],
 "metadata": {
  "kernelspec": {
   "display_name": "Python 3 (ipykernel)",
   "language": "python",
   "name": "python3"
  },
  "language_info": {
   "codemirror_mode": {
    "name": "ipython",
    "version": 3
   },
   "file_extension": ".py",
   "mimetype": "text/x-python",
   "name": "python",
   "nbconvert_exporter": "python",
   "pygments_lexer": "ipython3",
   "version": "3.9.12"
  }
 },
 "nbformat": 4,
 "nbformat_minor": 5
}
