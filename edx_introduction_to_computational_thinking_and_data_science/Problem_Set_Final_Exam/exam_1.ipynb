{
 "cells": [
  {
   "cell_type": "code",
   "execution_count": 53,
   "id": "de824b7a",
   "metadata": {},
   "outputs": [],
   "source": [
    "\"\"\" это экзаменационное задание, которое я сделал с первой попытки! \"\"\"\n",
    "\n",
    "songs = [('Roar',4.4, 4.0),('Sail',3.5, 7.7),('Timber', 5.1, 6.9),('Wannabe',2.7, 1.2)]\n",
    "max_size = 11"
   ]
  },
  {
   "cell_type": "code",
   "execution_count": 54,
   "id": "7a0a82a2",
   "metadata": {},
   "outputs": [
    {
     "data": {
      "text/plain": [
       "['Roar', 'Wannabe']"
      ]
     },
     "execution_count": 54,
     "metadata": {},
     "output_type": "execute_result"
    }
   ],
   "source": [
    "def song_playlist(songs, max_size):\n",
    "    \"\"\"\n",
    "    songs: list of tuples, ('song_name', song_len, song_size)\n",
    "    max_size: float, maximum size of total songs that you can fit\n",
    "\n",
    "    Start with the song first in the 'songs' list, then pick the next \n",
    "    song to be the one with the lowest file size not already picked, repeat\n",
    "\n",
    "    Returns: a list of a subset of songs fitting in 'max_size' in the order \n",
    "             in which they were chosen.\n",
    "    \"\"\"\n",
    "    playlist = []\n",
    "    \n",
    "    class Song(object):\n",
    "        def __init__(self,name,length,size):\n",
    "            self.name = name\n",
    "            self.length = length\n",
    "            self.size = size\n",
    "        def getName(self):\n",
    "            return self.name\n",
    "        def getLength(self):\n",
    "            return self.length\n",
    "        def getSize(self):\n",
    "            return self.size\n",
    "        def __str__(self):\n",
    "            return self.name\n",
    "    \n",
    "    def full_list(songs): #list of tuples\n",
    "        fullList = []\n",
    "        for i in range(len(songs)):\n",
    "            fullList.append(Song(songs[i][0],songs[i][1], songs[i][2]))\n",
    "        return fullList\n",
    "    \n",
    "    list_of_songs = full_list(songs)\n",
    "    totalSize = 0\n",
    "    \n",
    "    if list_of_songs[0].getSize() > max_size:\n",
    "        return playlist\n",
    "    else:\n",
    "        playlist.append(list_of_songs[0].getName())\n",
    "        totalSize += list_of_songs[0].getSize()\n",
    "    \n",
    "    list_of_songs.pop(0)\n",
    "    list_of_songs = sorted(list_of_songs, key=Song.getSize, reverse=False)\n",
    "    for i in range(len(list_of_songs)):\n",
    "        if (totalSize + list_of_songs[i].getSize()) <= max_size:\n",
    "            playlist.append(list_of_songs[i].getName())\n",
    "            totalSize += list_of_songs[i].getSize()\n",
    "    return playlist \n",
    "    \n",
    "\n",
    "song_playlist(songs,max_size)"
   ]
  }
 ],
 "metadata": {
  "kernelspec": {
   "display_name": "Python 3 (ipykernel)",
   "language": "python",
   "name": "python3"
  },
  "language_info": {
   "codemirror_mode": {
    "name": "ipython",
    "version": 3
   },
   "file_extension": ".py",
   "mimetype": "text/x-python",
   "name": "python",
   "nbconvert_exporter": "python",
   "pygments_lexer": "ipython3",
   "version": "3.9.12"
  }
 },
 "nbformat": 4,
 "nbformat_minor": 5
}
