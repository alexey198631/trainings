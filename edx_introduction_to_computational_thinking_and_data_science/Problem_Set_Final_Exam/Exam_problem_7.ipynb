{
 "cells": [
  {
   "cell_type": "code",
   "execution_count": 18,
   "id": "76a50387",
   "metadata": {},
   "outputs": [
    {
     "name": "stdout",
     "output_type": "stream",
     "text": [
      "49\n"
     ]
    }
   ],
   "source": [
    "def solveit(test):\n",
    "    \"\"\" test, a function that takes an int parameter and returns a Boolean\n",
    "        Assumes there exists an int, x, such that test(x) is True\n",
    "        Returns an int, x, with the smallest absolute value such that test(x) is True \n",
    "        In case of ties, return any one of them. \n",
    "    \"\"\"\n",
    "    # IMPLEMENT THIS FUNCTION\n",
    "    n = 0\n",
    "\n",
    "    while True:\n",
    "        if test(n) == True:\n",
    "            return n\n",
    "        elif test(-n) == True:\n",
    "            return -n\n",
    "        n += 1\n",
    "\n",
    "def f(x):\n",
    "    return (x+15)**0.5 + x**0.5 == 15\n",
    "\n",
    "print(solveit(f))"
   ]
  },
  {
   "cell_type": "code",
   "execution_count": 19,
   "id": "23fab596",
   "metadata": {},
   "outputs": [
    {
     "name": "stdout",
     "output_type": "stream",
     "text": [
      "0\n"
     ]
    }
   ],
   "source": [
    "def f(x):\n",
    "    return x == 0\n",
    "print(solveit(f))"
   ]
  },
  {
   "cell_type": "code",
   "execution_count": 3,
   "id": "8929a2a1",
   "metadata": {},
   "outputs": [
    {
     "name": "stdout",
     "output_type": "stream",
     "text": [
      "None\n"
     ]
    }
   ],
   "source": [
    "def f(x):\n",
    "    return (x+15)**0.5 + x**0.5 == 15\n",
    "print(solveit(f))"
   ]
  }
 ],
 "metadata": {
  "kernelspec": {
   "display_name": "Python 3 (ipykernel)",
   "language": "python",
   "name": "python3"
  },
  "language_info": {
   "codemirror_mode": {
    "name": "ipython",
    "version": 3
   },
   "file_extension": ".py",
   "mimetype": "text/x-python",
   "name": "python",
   "nbconvert_exporter": "python",
   "pygments_lexer": "ipython3",
   "version": "3.9.12"
  }
 },
 "nbformat": 4,
 "nbformat_minor": 5
}
