{
 "cells": [
  {
   "cell_type": "code",
   "execution_count": 61,
   "id": "b9f3e361",
   "metadata": {},
   "outputs": [],
   "source": [
    "import random\n",
    "  \n",
    "# You are given this function - do not modify\n",
    "def createRandomGraph():\n",
    "    \"\"\"Creates a digraph with 7 randomly chosen integer nodes from 0 to 9 and\n",
    "    randomly chosen directed edges (between 10 and 20 edges)\n",
    "    \"\"\"\n",
    "    g = {}\n",
    "    n = random.sample([0,1,2,3,4,5,6,7,8,9], 7)\n",
    "    for i in n:\n",
    "        g[i] = []\n",
    "    edges = random.randint(10,20)\n",
    "    count = 0\n",
    "    while count < edges:\n",
    "        a = random.choice(n)\n",
    "        b = random.choice(n)\n",
    "        if b not in g[a] and a != b:\n",
    "            g[a].append(b)\n",
    "            count += 1\n",
    "    return g\n",
    "\n",
    "# You are given this function - do not modify\n",
    "def findPath(g, start, end, path=[]):\n",
    "    \"\"\" Uses DFS to find a path between a start and an end node in g.\n",
    "    If no path is found, returns None. If a path is found, returns the\n",
    "    list of nodes \"\"\"\n",
    "    path = path + [start]\n",
    "    if start == end:\n",
    "        return path\n",
    "    if not start in g:\n",
    "        return None\n",
    "    for node in g[start]:\n",
    "        if node not in path:\n",
    "            newpath = findPath(g, node, end, path)\n",
    "            if newpath: return newpath\n",
    "    return None\n",
    "                \n",
    "#########################        \n",
    "## WRITE THIS FUNCTION ##\n",
    "#########################        \n",
    "\n",
    "def allReachable(g, n):\n",
    "    \"\"\"\n",
    "    Assumes g is a directed graph and n a node in g.\n",
    "    Returns a sorted list (increasing by node number) containing all \n",
    "    nodes m such that there is a path from n to m in g. \n",
    "    Does not include the node itself.\n",
    "    \"\"\"\n",
    "    #TODO"
   ]
  },
  {
   "cell_type": "code",
   "execution_count": 64,
   "id": "d9551a73",
   "metadata": {},
   "outputs": [
    {
     "data": {
      "text/plain": [
       "[9, 1, 8, 5, 7]"
      ]
     },
     "execution_count": 64,
     "metadata": {},
     "output_type": "execute_result"
    }
   ],
   "source": [
    "test = {9: [1, 5, 7],\n",
    " 2: [5, 9],\n",
    " 7: [9, 2, 1],\n",
    " 5: [9, 1, 7],\n",
    " 8: [9, 5, 7],\n",
    " 6: [7, 5, 2],\n",
    " 1: [9, 8, 6],\n",
    " 4: [3,10]}\n",
    "\n",
    "lst = findPath(test,9,7)\n",
    "lst"
   ]
  },
  {
   "cell_type": "code",
   "execution_count": 65,
   "id": "f3f0f2e8",
   "metadata": {},
   "outputs": [
    {
     "data": {
      "text/plain": [
       "[1, 5, 7, 8, 9]"
      ]
     },
     "execution_count": 65,
     "metadata": {},
     "output_type": "execute_result"
    }
   ],
   "source": [
    "sorted(lst)"
   ]
  },
  {
   "cell_type": "code",
   "execution_count": 68,
   "id": "76075246",
   "metadata": {},
   "outputs": [
    {
     "name": "stdout",
     "output_type": "stream",
     "text": [
      "[1, 2, 5, 6, 7, 8]\n"
     ]
    }
   ],
   "source": [
    "def allReachable(g, n):\n",
    "    \"\"\"\n",
    "    Assumes g is a directed graph and n a node in g.\n",
    "    Returns a sorted list (increasing by node number) containing all \n",
    "    nodes m such that there is a path from n to m in g. \n",
    "    Does not include the node itself.\n",
    "    \"\"\"\n",
    "    result = []\n",
    "    for node in g:\n",
    "        if findPath(g, n, node, []):\n",
    "            result.append(node)\n",
    "    result.remove(n)\n",
    "    lst = sorted(result)\n",
    "\n",
    "    return lst\n",
    "            \n",
    "        \n",
    "\n",
    "print(allReachable(test,9))"
   ]
  }
 ],
 "metadata": {
  "kernelspec": {
   "display_name": "Python 3 (ipykernel)",
   "language": "python",
   "name": "python3"
  },
  "language_info": {
   "codemirror_mode": {
    "name": "ipython",
    "version": 3
   },
   "file_extension": ".py",
   "mimetype": "text/x-python",
   "name": "python",
   "nbconvert_exporter": "python",
   "pygments_lexer": "ipython3",
   "version": "3.9.12"
  }
 },
 "nbformat": 4,
 "nbformat_minor": 5
}
