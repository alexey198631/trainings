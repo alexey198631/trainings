{
 "cells": [
  {
   "cell_type": "code",
   "execution_count": null,
   "id": "c46174f4",
   "metadata": {},
   "outputs": [],
   "source": [
    "class Solution:\n",
    "    def romanToInt(self, s: str) -> int:\n",
    "        symbols = ['I','V','X','L','C','D','M']\n",
    "        values = [1,5,10,50,100,500,1000]\n",
    "        dt = {}\n",
    "        for i,k in enumerate(symbols):\n",
    "            dt[k] = values[i]"
   ]
  },
  {
   "cell_type": "code",
   "execution_count": 26,
   "id": "57b22387",
   "metadata": {},
   "outputs": [],
   "source": [
    "def romanToInt(s: str) -> int:\n",
    "        symbols = ['I','V','X','L','C','D','M']\n",
    "        values = [1,5,10,50,100,500,1000]\n",
    "        dt = {}\n",
    "        for i,k in enumerate(symbols):\n",
    "            dt[k] = values[i]\n",
    "        initial = list(s)\n",
    "        return dt, initial"
   ]
  },
  {
   "cell_type": "code",
   "execution_count": 39,
   "id": "e195469a",
   "metadata": {},
   "outputs": [],
   "source": [
    "s = romanToInt('IX')[1]\n",
    "dt = romanToInt('IX')[0]"
   ]
  },
  {
   "cell_type": "code",
   "execution_count": 40,
   "id": "106b68c0",
   "metadata": {},
   "outputs": [
    {
     "name": "stdout",
     "output_type": "stream",
     "text": [
      "-1\n",
      "9\n"
     ]
    }
   ],
   "source": [
    "result = 0\n",
    "\n",
    "for i in range(len(s)):\n",
    "    if i == (len(s) - 1):\n",
    "        result = result + dt[s[i]]\n",
    "    else:\n",
    "        if dt[s[i]] < dt[s[i+1]]:\n",
    "            result = result - dt[s[i]]\n",
    "        else:\n",
    "            result = result + dt[s[i]]\n",
    "    print(result)"
   ]
  },
  {
   "cell_type": "code",
   "execution_count": 36,
   "id": "4d5ad2c7",
   "metadata": {},
   "outputs": [
    {
     "data": {
      "text/plain": [
       "3099"
      ]
     },
     "execution_count": 36,
     "metadata": {},
     "output_type": "execute_result"
    }
   ],
   "source": [
    "result"
   ]
  },
  {
   "cell_type": "code",
   "execution_count": 31,
   "id": "8598cce4",
   "metadata": {},
   "outputs": [
    {
     "data": {
      "text/plain": [
       "1"
      ]
     },
     "execution_count": 31,
     "metadata": {},
     "output_type": "execute_result"
    }
   ],
   "source": [
    "dt['I']"
   ]
  },
  {
   "cell_type": "code",
   "execution_count": null,
   "id": "e4229234",
   "metadata": {},
   "outputs": [],
   "source": []
  }
 ],
 "metadata": {
  "kernelspec": {
   "display_name": "Python 3 (ipykernel)",
   "language": "python",
   "name": "python3"
  },
  "language_info": {
   "codemirror_mode": {
    "name": "ipython",
    "version": 3
   },
   "file_extension": ".py",
   "mimetype": "text/x-python",
   "name": "python",
   "nbconvert_exporter": "python",
   "pygments_lexer": "ipython3",
   "version": "3.9.12"
  }
 },
 "nbformat": 4,
 "nbformat_minor": 5
}
