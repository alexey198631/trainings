{
 "cells": [
  {
   "cell_type": "markdown",
   "id": "b81cdacf",
   "metadata": {},
   "source": [
    "Although CSV is a very popular format of storing data, we find it so much easier to process JSON data in Python, since it's very similar to the dictionary data structure in Python.\n",
    "\n",
    "In this exercise, we ask you to create a CSV to JSON converter that can be handy for others. You converter should achieve the following tasks:\n",
    "\n",
    "Given a CSV file csv_file.txt with following format:\n",
    "\n",
    "Manchester United,Manchester,UK\n",
    "Real Madrid,Madrid,Spain\n",
    "Juventus,Turin,Italy\n",
    "\n",
    "Read and process the file and store its content in JSON format into json_file.txt. The according keys to each field in the CSV file are club, city and country. Thus the output should be, according to the given sample CSV file, like this:\n",
    "\n",
    "[{\"club\": \"Manchester United\", \"country\": \"UK\", \"city\": \"Manchester\"}, {\"club\": \"Real Madrid\", \"country\": \"Spain\", \"city\": \"Madrid\"}, {\"club\": \"Juventus\", \"country\": \"Italy\", \"city\": \"Turin\"}]\n",
    "\n",
    "P.S. You can assume that the csv_file.txt file exists, and its data is always in proper format. It doesn't matter if key value pairs are in different order."
   ]
  },
  {
   "cell_type": "code",
   "execution_count": 6,
   "id": "4021419a",
   "metadata": {},
   "outputs": [],
   "source": [
    "# my solution\n",
    "\n",
    "import json\n",
    "\n",
    "csv_file = open('csv_file.txt', 'r')\n",
    "lines = csv_file.readlines()\n",
    "csv_file.close()\n",
    "\n",
    "clubs = {}\n",
    "list_of_clubs = []\n",
    "\n",
    "\n",
    "for line in lines:\n",
    "    club_data = line.split(',')\n",
    "    clubs['club'] = club_data[0]\n",
    "    clubs['city'] = club_data[1]\n",
    "    clubs['country'] = club_data[2]\n",
    "    list_of_clubs.append(clubs)\n",
    "\n",
    "json_file = open('clubs_json.txt', 'w')\n",
    "json.dump(list_of_clubs, json_file)\n",
    "json_file.close()"
   ]
  },
  {
   "cell_type": "code",
   "execution_count": null,
   "id": "1214d545",
   "metadata": {},
   "outputs": [],
   "source": [
    "# provided solution\n",
    "\n",
    "import json\n",
    " \n",
    "json_list = []      # store the converted json data for each line\n",
    "csv_file = open('csv_file.txt', 'r')\n",
    " \n",
    "for line in csv_file.readlines():\n",
    "    club, city, country = line.strip().split(',')   # first get rid of the \\n and then split with ','\n",
    "    data = {\n",
    "        'club': club,\n",
    "        'city': city,\n",
    "        'country': country\n",
    "    }\n",
    "    json_list.append(data)\n",
    " \n",
    "csv_file.close()\n",
    " \n",
    "json_file = open('json_file.txt', 'w')\n",
    "json.dump(json_list, json_file)     # write json data to a file\n",
    "json_file.close()"
   ]
  }
 ],
 "metadata": {
  "kernelspec": {
   "display_name": "Python 3 (ipykernel)",
   "language": "python",
   "name": "python3"
  },
  "language_info": {
   "codemirror_mode": {
    "name": "ipython",
    "version": 3
   },
   "file_extension": ".py",
   "mimetype": "text/x-python",
   "name": "python",
   "nbconvert_exporter": "python",
   "pygments_lexer": "ipython3",
   "version": "3.9.12"
  }
 },
 "nbformat": 4,
 "nbformat_minor": 5
}
